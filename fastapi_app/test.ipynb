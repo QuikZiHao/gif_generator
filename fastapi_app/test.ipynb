{
 "cells": [
  {
   "cell_type": "code",
   "execution_count": 7,
   "metadata": {},
   "outputs": [],
   "source": [
    "import torch\n",
    "import torchvision\n",
    "import sys\n",
    "import os\n",
    "import numpy as np\n",
    "import torch\n",
    "import matplotlib.pyplot as plt\n",
    "from PIL import Image"
   ]
  },
  {
   "cell_type": "code",
   "execution_count": 8,
   "metadata": {},
   "outputs": [],
   "source": [
    "device = torch.device(\"cuda\")"
   ]
  },
  {
   "cell_type": "code",
   "execution_count": 8,
   "metadata": {},
   "outputs": [
    {
     "name": "stdout",
     "output_type": "stream",
     "text": [
      "Frames extracted and saved to temp\\test\n"
     ]
    }
   ],
   "source": [
    "import cv2\n",
    "import os\n",
    "from pathlib import Path\n",
    "from utils.split_video import split_video\n",
    "\n",
    " \n",
    "# Path to the video file\n",
    "video_path = Path(r\"C:\\Users\\AORUS\\Downloads\\Screen_Recording_20241207_104321_REDnote.mp4\")\n",
    "split_video(video_path)\n",
    "\n"
   ]
  },
  {
   "cell_type": "code",
   "execution_count": 9,
   "metadata": {},
   "outputs": [],
   "source": [
    "from utils.crop_img import crop_image\n",
    "\n",
    "crop_image([0,521,1076,1597],172)"
   ]
  },
  {
   "cell_type": "code",
   "execution_count": null,
   "metadata": {},
   "outputs": [],
   "source": []
  },
  {
   "cell_type": "code",
   "execution_count": 10,
   "metadata": {},
   "outputs": [],
   "source": [
    "from utils.load_model import load_model\n",
    "\n",
    "predictor = load_model(\"small\")"
   ]
  },
  {
   "cell_type": "code",
   "execution_count": 11,
   "metadata": {},
   "outputs": [],
   "source": [
    "from constant import *"
   ]
  },
  {
   "cell_type": "code",
   "execution_count": 3,
   "metadata": {},
   "outputs": [
    {
     "data": {
      "text/plain": [
       "'cuda'"
      ]
     },
     "execution_count": 3,
     "metadata": {},
     "output_type": "execute_result"
    }
   ],
   "source": [
    "DEVICE"
   ]
  },
  {
   "cell_type": "code",
   "execution_count": 12,
   "metadata": {},
   "outputs": [
    {
     "name": "stderr",
     "output_type": "stream",
     "text": [
      "frame loading (JPEG): 100%|██████████| 172/172 [00:07<00:00, 22.28it/s]\n"
     ]
    }
   ],
   "source": [
    "from constant import SPLIT_OUTPUT\n",
    "inference_state = predictor.init_state(video_path=SPLIT_OUTPUT)"
   ]
  },
  {
   "cell_type": "code",
   "execution_count": 13,
   "metadata": {},
   "outputs": [],
   "source": [
    "predictor.reset_state(inference_state)"
   ]
  },
  {
   "cell_type": "code",
   "execution_count": 14,
   "metadata": {},
   "outputs": [
    {
     "data": {
      "text/plain": [
       "(0,\n",
       " [1],\n",
       " tensor([[[[-2.6717, -2.6717, -2.8353,  ..., -3.0941, -3.1764, -3.1764],\n",
       "           [-2.6717, -2.6717, -2.8353,  ..., -3.0941, -3.1764, -3.1764],\n",
       "           [-2.8707, -2.8707, -3.0081,  ..., -3.0559, -3.1205, -3.1205],\n",
       "           ...,\n",
       "           [-3.7733, -3.7733, -3.7227,  ..., -3.8967, -3.8260, -3.8260],\n",
       "           [-3.9190, -3.9190, -3.8471,  ..., -3.8155, -3.7289, -3.7289],\n",
       "           [-3.9190, -3.9190, -3.8471,  ..., -3.8155, -3.7289, -3.7289]]]],\n",
       "        device='cuda:0'))"
      ]
     },
     "execution_count": 14,
     "metadata": {},
     "output_type": "execute_result"
    }
   ],
   "source": [
    "import numpy as np\n",
    "\n",
    "ann_frame_idx = 0  # the frame index we interact with\n",
    "ann_obj_id = 1  # give a unique id to each object we interact with (it can be any integers)\n",
    "\n",
    "# Let's add a positive click at (x, y) = (210, 350) to get started\n",
    "points = np.array([[578, 373],[659,994]], dtype=np.float32)\n",
    "# for labels, `1` means positive click and `0` means negative click\n",
    "labels = np.array([1,1], np.int32)\n",
    "predictor.add_new_points_or_box(\n",
    "    inference_state=inference_state,\n",
    "    frame_idx=ann_frame_idx,\n",
    "    obj_id=ann_obj_id,\n",
    "    points=points,\n",
    "    labels=labels,\n",
    ")\n"
   ]
  },
  {
   "cell_type": "code",
   "execution_count": 15,
   "metadata": {},
   "outputs": [
    {
     "name": "stderr",
     "output_type": "stream",
     "text": [
      "propagate in video:   0%|          | 0/172 [00:00<?, ?it/s]"
     ]
    },
    {
     "name": "stderr",
     "output_type": "stream",
     "text": [
      "propagate in video: 100%|██████████| 172/172 [25:58<00:00,  9.06s/it]\n"
     ]
    }
   ],
   "source": [
    "from utils.segement import video_segement\n",
    "\n",
    "video_segements = video_segement(predictor=predictor, inference_state=inference_state)"
   ]
  },
  {
   "cell_type": "code",
   "execution_count": 16,
   "metadata": {},
   "outputs": [
    {
     "data": {
      "text/plain": [
       "172"
      ]
     },
     "execution_count": 16,
     "metadata": {},
     "output_type": "execute_result"
    }
   ],
   "source": [
    "len(video_segements)"
   ]
  },
  {
   "cell_type": "code",
   "execution_count": 17,
   "metadata": {},
   "outputs": [
    {
     "name": "stdout",
     "output_type": "stream",
     "text": [
      "Image loaded successfully. Shape: (1076, 1076, 3)\n",
      "Image loaded successfully. Shape: (1076, 1076, 3)\n",
      "Image loaded successfully. Shape: (1076, 1076, 3)\n",
      "Image loaded successfully. Shape: (1076, 1076, 3)\n",
      "Image loaded successfully. Shape: (1076, 1076, 3)\n",
      "Image loaded successfully. Shape: (1076, 1076, 3)\n",
      "Image loaded successfully. Shape: (1076, 1076, 3)\n",
      "Image loaded successfully. Shape: (1076, 1076, 3)\n",
      "Image loaded successfully. Shape: (1076, 1076, 3)\n"
     ]
    }
   ],
   "source": [
    "from utils.show_mask import show_mask\n",
    "\n",
    "temp = show_mask(frame_stride=20,video_segements=video_segements)"
   ]
  },
  {
   "cell_type": "code",
   "execution_count": 18,
   "metadata": {},
   "outputs": [
    {
     "data": {
      "text/plain": [
       "(1076, 1076, 3)"
      ]
     },
     "execution_count": 18,
     "metadata": {},
     "output_type": "execute_result"
    }
   ],
   "source": [
    "temp[0].shape"
   ]
  },
  {
   "cell_type": "code",
   "execution_count": 19,
   "metadata": {},
   "outputs": [],
   "source": [
    "from utils.show_img import show_image\n",
    "\n",
    "\n",
    "for i in temp:\n",
    "    show_image(i)"
   ]
  },
  {
   "cell_type": "code",
   "execution_count": 20,
   "metadata": {},
   "outputs": [
    {
     "name": "stdout",
     "output_type": "stream",
     "text": [
      "Saved 0000_masked.png as PNG\n",
      "Saved 0001_masked.png as PNG\n",
      "Saved 0002_masked.png as PNG\n",
      "Saved 0003_masked.png as PNG\n",
      "Saved 0004_masked.png as PNG\n",
      "Saved 0005_masked.png as PNG\n",
      "Saved 0006_masked.png as PNG\n",
      "Saved 0007_masked.png as PNG\n",
      "Saved 0008_masked.png as PNG\n",
      "Saved 0009_masked.png as PNG\n",
      "Saved 0010_masked.png as PNG\n",
      "Saved 0011_masked.png as PNG\n",
      "Saved 0012_masked.png as PNG\n",
      "Saved 0013_masked.png as PNG\n",
      "Saved 0014_masked.png as PNG\n",
      "Saved 0015_masked.png as PNG\n",
      "Saved 0016_masked.png as PNG\n",
      "Saved 0017_masked.png as PNG\n",
      "Saved 0018_masked.png as PNG\n",
      "Saved 0019_masked.png as PNG\n",
      "Saved 0020_masked.png as PNG\n",
      "Saved 0021_masked.png as PNG\n",
      "Saved 0022_masked.png as PNG\n",
      "Saved 0023_masked.png as PNG\n",
      "Saved 0024_masked.png as PNG\n",
      "Saved 0025_masked.png as PNG\n",
      "Saved 0026_masked.png as PNG\n",
      "Saved 0027_masked.png as PNG\n",
      "Saved 0028_masked.png as PNG\n",
      "Saved 0029_masked.png as PNG\n",
      "Saved 0030_masked.png as PNG\n",
      "Saved 0031_masked.png as PNG\n",
      "Saved 0032_masked.png as PNG\n",
      "Saved 0033_masked.png as PNG\n",
      "Saved 0034_masked.png as PNG\n",
      "Saved 0035_masked.png as PNG\n",
      "Saved 0036_masked.png as PNG\n",
      "Saved 0037_masked.png as PNG\n",
      "Saved 0038_masked.png as PNG\n",
      "Saved 0039_masked.png as PNG\n",
      "Saved 0040_masked.png as PNG\n",
      "Saved 0041_masked.png as PNG\n",
      "Saved 0042_masked.png as PNG\n",
      "Saved 0043_masked.png as PNG\n",
      "Saved 0044_masked.png as PNG\n",
      "Saved 0045_masked.png as PNG\n",
      "Saved 0046_masked.png as PNG\n",
      "Saved 0047_masked.png as PNG\n",
      "Saved 0048_masked.png as PNG\n",
      "Saved 0049_masked.png as PNG\n",
      "Saved 0050_masked.png as PNG\n",
      "Saved 0051_masked.png as PNG\n",
      "Saved 0052_masked.png as PNG\n",
      "Saved 0053_masked.png as PNG\n",
      "Saved 0054_masked.png as PNG\n",
      "Saved 0055_masked.png as PNG\n",
      "Saved 0056_masked.png as PNG\n",
      "Saved 0057_masked.png as PNG\n",
      "Saved 0058_masked.png as PNG\n",
      "Saved 0059_masked.png as PNG\n",
      "Saved 0060_masked.png as PNG\n",
      "Saved 0061_masked.png as PNG\n",
      "Saved 0062_masked.png as PNG\n",
      "Saved 0063_masked.png as PNG\n",
      "Saved 0064_masked.png as PNG\n",
      "Saved 0065_masked.png as PNG\n",
      "Saved 0066_masked.png as PNG\n",
      "Saved 0067_masked.png as PNG\n",
      "Saved 0068_masked.png as PNG\n",
      "Saved 0069_masked.png as PNG\n",
      "Saved 0070_masked.png as PNG\n",
      "Saved 0071_masked.png as PNG\n",
      "Saved 0072_masked.png as PNG\n",
      "Saved 0073_masked.png as PNG\n",
      "Saved 0074_masked.png as PNG\n",
      "Saved 0075_masked.png as PNG\n",
      "Saved 0076_masked.png as PNG\n",
      "Saved 0077_masked.png as PNG\n",
      "Saved 0078_masked.png as PNG\n",
      "Saved 0079_masked.png as PNG\n",
      "Saved 0080_masked.png as PNG\n",
      "Saved 0081_masked.png as PNG\n",
      "Saved 0082_masked.png as PNG\n",
      "Saved 0083_masked.png as PNG\n",
      "Saved 0084_masked.png as PNG\n",
      "Saved 0085_masked.png as PNG\n",
      "Saved 0086_masked.png as PNG\n",
      "Saved 0087_masked.png as PNG\n",
      "Saved 0088_masked.png as PNG\n",
      "Saved 0089_masked.png as PNG\n",
      "Saved 0090_masked.png as PNG\n",
      "Saved 0091_masked.png as PNG\n",
      "Saved 0092_masked.png as PNG\n",
      "Saved 0093_masked.png as PNG\n",
      "Saved 0094_masked.png as PNG\n",
      "Saved 0095_masked.png as PNG\n",
      "Saved 0096_masked.png as PNG\n",
      "Saved 0097_masked.png as PNG\n",
      "Saved 0098_masked.png as PNG\n",
      "Saved 0099_masked.png as PNG\n",
      "Saved 0100_masked.png as PNG\n",
      "Saved 0101_masked.png as PNG\n",
      "Saved 0102_masked.png as PNG\n",
      "Saved 0103_masked.png as PNG\n",
      "Saved 0104_masked.png as PNG\n",
      "Saved 0105_masked.png as PNG\n",
      "Saved 0106_masked.png as PNG\n",
      "Saved 0107_masked.png as PNG\n",
      "Saved 0108_masked.png as PNG\n",
      "Saved 0109_masked.png as PNG\n",
      "Saved 0110_masked.png as PNG\n",
      "Saved 0111_masked.png as PNG\n",
      "Saved 0112_masked.png as PNG\n",
      "Saved 0113_masked.png as PNG\n",
      "Saved 0114_masked.png as PNG\n",
      "Saved 0115_masked.png as PNG\n",
      "Saved 0116_masked.png as PNG\n",
      "Saved 0117_masked.png as PNG\n",
      "Saved 0118_masked.png as PNG\n",
      "Saved 0119_masked.png as PNG\n",
      "Saved 0120_masked.png as PNG\n",
      "Saved 0121_masked.png as PNG\n",
      "Saved 0122_masked.png as PNG\n",
      "Saved 0123_masked.png as PNG\n",
      "Saved 0124_masked.png as PNG\n",
      "Saved 0125_masked.png as PNG\n",
      "Saved 0126_masked.png as PNG\n",
      "Saved 0127_masked.png as PNG\n",
      "Saved 0128_masked.png as PNG\n",
      "Saved 0129_masked.png as PNG\n",
      "Saved 0130_masked.png as PNG\n",
      "Saved 0131_masked.png as PNG\n",
      "Saved 0132_masked.png as PNG\n",
      "Saved 0133_masked.png as PNG\n",
      "Saved 0134_masked.png as PNG\n",
      "Saved 0135_masked.png as PNG\n",
      "Saved 0136_masked.png as PNG\n",
      "Saved 0137_masked.png as PNG\n",
      "Saved 0138_masked.png as PNG\n",
      "Saved 0139_masked.png as PNG\n",
      "Saved 0140_masked.png as PNG\n",
      "Saved 0141_masked.png as PNG\n",
      "Saved 0142_masked.png as PNG\n",
      "Saved 0143_masked.png as PNG\n",
      "Saved 0144_masked.png as PNG\n",
      "Saved 0145_masked.png as PNG\n",
      "Saved 0146_masked.png as PNG\n",
      "Saved 0147_masked.png as PNG\n",
      "Saved 0148_masked.png as PNG\n",
      "Saved 0149_masked.png as PNG\n",
      "Saved 0150_masked.png as PNG\n",
      "Saved 0151_masked.png as PNG\n",
      "Saved 0152_masked.png as PNG\n",
      "Saved 0153_masked.png as PNG\n",
      "Saved 0154_masked.png as PNG\n",
      "Saved 0155_masked.png as PNG\n",
      "Saved 0156_masked.png as PNG\n",
      "Saved 0157_masked.png as PNG\n",
      "Saved 0158_masked.png as PNG\n",
      "Saved 0159_masked.png as PNG\n",
      "Saved 0160_masked.png as PNG\n",
      "Saved 0161_masked.png as PNG\n",
      "Saved 0162_masked.png as PNG\n",
      "Saved 0163_masked.png as PNG\n",
      "Saved 0164_masked.png as PNG\n",
      "Saved 0165_masked.png as PNG\n",
      "Saved 0166_masked.png as PNG\n",
      "Saved 0167_masked.png as PNG\n",
      "Saved 0168_masked.png as PNG\n",
      "Saved 0169_masked.png as PNG\n",
      "Saved 0170_masked.png as PNG\n",
      "Saved 0171_masked.png as PNG\n"
     ]
    }
   ],
   "source": [
    "from utils.crop_img import crop_mask\n",
    "\n",
    "crop_mask(video_segments=video_segements, frame_len=172)"
   ]
  },
  {
   "cell_type": "code",
   "execution_count": 26,
   "metadata": {},
   "outputs": [
    {
     "name": "stdout",
     "output_type": "stream",
     "text": [
      "GIF saved as 'temp\\gif\\output.gif'\n"
     ]
    }
   ],
   "source": [
    "from utils.to_gif import to_gif\n",
    "\n",
    "to_gif(71,1/41.34)"
   ]
  },
  {
   "cell_type": "code",
   "execution_count": null,
   "metadata": {},
   "outputs": [],
   "source": []
  }
 ],
 "metadata": {
  "kernelspec": {
   "display_name": "sam",
   "language": "python",
   "name": "python3"
  },
  "language_info": {
   "codemirror_mode": {
    "name": "ipython",
    "version": 3
   },
   "file_extension": ".py",
   "mimetype": "text/x-python",
   "name": "python",
   "nbconvert_exporter": "python",
   "pygments_lexer": "ipython3",
   "version": "3.12.6"
  }
 },
 "nbformat": 4,
 "nbformat_minor": 2
}
